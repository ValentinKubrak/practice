{
  "nbformat": 4,
  "nbformat_minor": 0,
  "metadata": {
    "colab": {
      "name": "Practice_14_KM_01.ipynb",
      "provenance": [],
      "collapsed_sections": []
    },
    "kernelspec": {
      "name": "python3",
      "display_name": "Python 3.8.5 32-bit",
      "metadata": {
        "interpreter": {
          "hash": "6fa8c4a0213b3e8e46e64ca221d4ef2f7254b1e53b83d6209b624a99d7aa7db4"
        }
      }
    }
  },
  "cells": [
    {
      "cell_type": "markdown",
      "metadata": {
        "id": "FMqboNwO4rVs"
      },
      "source": [
        "# **Курс \"Програмування на мові Python\"**\n",
        "\n",
        "##### Викладачі:\n",
        "##### Борисенко Павло Борисович\n",
        "##### Щьоголєв Максим Олегович\n"
      ]
    },
    {
      "cell_type": "markdown",
      "metadata": {
        "id": "A2T6MigL5Z06"
      },
      "source": [
        "## **Практичне зайняття №14**\n",
        "\n",
        "### Тема: \"Робота з файлами\""
      ]
    },
    {
      "cell_type": "markdown",
      "metadata": {
        "id": "cfCdgK2zXm7e"
      },
      "source": [
        "### **Завдання 1 (1,5 бали)**\n",
        "\n",
        "У 1939 році друком вийшов роман американського письменика Ернеста Вінсента Райта \"Ґедсбі\". Особливу увагу публіки він здобув через те, що письменник жодного разу не використав у романі літеру \"e\" (роман складається з більше ніж 50,000 слів), яка є найбільш вживаною літерою в англійській мові.\n",
        "\n",
        "Порахуйте кількість входжень кожної літери у текст роману. Виведіть список літер англійського алфавіту, а також інформацію про те, скільки відсотків від усіх літер тексту складає кожна літера алфавіту.\n",
        "\n",
        "Зауваження:\n",
        "\n",
        "1. Програма має ігнорувати будь-які символи, окрім літер.\n",
        "\n",
        "2. Переведіть усі літери у верхній або у нижній регістр.\n",
        "\n",
        "3. Під час виведення відсортуйте літери у порядку зменшення їхнього відсотка. Літера \"e\" має стояти на останньому місці у цьому списку.\n",
        "\n",
        "4. Виведіть перші 5 та останні 5 літер відсортованого списку разом з відсотковими значеннями, що їм відповідають."
      ]
    },
    {
      "cell_type": "code",
      "metadata": {
        "tags": [],
        "id": "u4-fHJJ6U462"
      },
      "source": [
        "file = open('gadsby.txt','r')\n",
        "letters_list = []\n",
        "for row in file:\n",
        "    for letter in row:\n",
        "        if letter.isalpha() == False:\n",
        "            pass\n",
        "        else:\n",
        "            letters_list.append(letter.lower())\n",
        "quantity = {}\n",
        "for i in set(letters_list):\n",
        "    quantity[i] = letters_list.count(i)\n",
        "file.close()\n",
        "keys_and_values = list(quantity.items())\n",
        "keys_and_values.sort(key=lambda i: i[1])\n",
        "keys_and_values = keys_and_values[::-1]\n",
        "values = list(quantity.values())\n",
        "values.sort()\n",
        "values = values[::-1]\n",
        "percent = []\n",
        "for i in values:\n",
        "    k = (i/sum(values))*100\n",
        "    percent.append(round(k,2))\n",
        "for i in range(len(values)):\n",
        "    print(keys_and_values[i][0], '-', keys_and_values[i][1], '-' ,percent[i],'%')"
      ],
      "execution_count": 1,
      "outputs": [
        {
          "output_type": "stream",
          "name": "stdout",
          "text": [
            "a - 23607 - 10.89 %\no - 22475 - 10.37 %\ni - 19050 - 8.79 %\nn - 18553 - 8.56 %\nt - 18488 - 8.53 %\ns - 15074 - 6.96 %\nl - 11467 - 5.29 %\nh - 10653 - 4.92 %\nr - 10372 - 4.79 %\nu - 8953 - 4.13 %\nd - 8896 - 4.11 %\ng - 7735 - 3.57 %\ny - 6860 - 3.17 %\nw - 6039 - 2.79 %\nc - 5784 - 2.67 %\nf - 4657 - 2.15 %\nb - 4607 - 2.13 %\nm - 4527 - 2.09 %\np - 4134 - 1.91 %\nk - 2531 - 1.17 %\nv - 729 - 0.34 %\ne - 507 - 0.23 %\nj - 487 - 0.22 %\nz - 231 - 0.11 %\nx - 176 - 0.08 %\nq - 114 - 0.05 %\n"
          ]
        }
      ]
    },
    {
      "cell_type": "markdown",
      "metadata": {
        "id": "A34oz70eU463"
      },
      "source": [
        "### **Завдання 2 (1,5 бали)**\n",
        "\n",
        "Створіть CSV-файл, що буде містити від 5 до 10 пісень (творів) вашого улюбленого музиканта. Назва файлу - ім'я музиканта (композитора) або назва гурту.\n",
        "\n",
        "1. Обов'язково додайте до файлу рядок з назвами двох колонок (Song, Year) або (Composition, Year).\n",
        "\n",
        "2. Після запису файлу роздрукуйте назву файлу та усі наявні у файлі рядки (включно із заголовками).\n",
        "\n",
        "3. Для запису та зчитування рядків скористайтесь функціями csv.DictWriter() та csv.DictReader()."
      ]
    },
    {
      "cell_type": "code",
      "metadata": {
        "id": "MEJIrG1GU463"
      },
      "source": [
        "import csv\n",
        " \n",
        "with open('Miyagi.csv', 'w') as csvfile:\n",
        "    fieldnames = ['Song', 'Year']\n",
        "    writer = csv.DictWriter(csvfile, fieldnames=fieldnames)\n",
        "    writer.writeheader()\n",
        "    writer.writerows([{'Song': 'Kosandra', 'Year': '2020'},\n",
        "                      {'Song': 'I Got Love', 'Year': '2017'},\n",
        "                      {'Song': 'Minor', 'Year': '2020'},\n",
        "                      {'Song': 'Utopia', 'Year': '2020'},\n",
        "                      {'Song': 'Yamakasi', 'Year': '2020'},\n",
        "                      {'Song': 'Brooklyn', 'Year': '2020'},\n",
        "                      {'Song': 'Fireman', 'Year': '2018'}])\n",
        " \n",
        "with open('Miyagi.csv', newline='') as csvfile:\n",
        "    print(csvfile.name,'\\n')\n",
        "    reader = csv.reader(csvfile)\n",
        "    for row in reader:\n",
        "        print(*row, sep=', ')"
      ],
      "execution_count": 2,
      "outputs": [
        {
          "output_type": "stream",
          "name": "stdout",
          "text": [
            "Miyagi.csv \n\nSong, Year\n\nKosandra, 2020\n\nI Got Love, 2017\n\nMinor, 2020\n\nUtopia, 2020\n\nYamakasi, 2020\n\nBrooklyn, 2020\n\nFireman, 2018\n\n"
          ]
        }
      ]
    },
    {
      "cell_type": "markdown",
      "metadata": {
        "id": "Jb-eSBsWU464"
      },
      "source": [
        "### **Завдання 3 (бонусне, 1 бал)**\n",
        "\n",
        "COCO Dataset - набір фотографій та анотацій до них. Його дуже часто використовують для тренування класифікаторів, призначених для розпізнавання об'єктів та визначення ключових точок на зображеннях.\n",
        "\n",
        "Завантажте файли з описом фотографій COCO Dataset за посиланням: http://images.cocodataset.org/annotations/image_info_test2017.zip\n",
        "\n",
        "1. Відкрийте файл image_info_test-dev2017.json. Інформація про фотографії з бази COCO міститься у полі \"images\". Інформація про категорії, на які розділені всі фотографії, міститься у полі \"categories\".\n",
        "\n",
        "2. Визначте кількість фотографій, інформацію про які можна знайти у цьому файлі (кількість елементів, що відповідають ключу \"images\").\n",
        "\n",
        "3. Визначте кількість наявних категорій (кількість елементів, що відповідають ключу \"categories\").\n",
        "\n",
        "4. Виведіть посилання на фотографію 000000000001.jpg (\"coco_url\"), висоту цієї фотографії (\"height\"), ширину (\"width\") та її ідентифікатор (\"id\").\n",
        "\n",
        "5. Опис структури JSON-файлу для набору фотографій COCO можна знайти за посиланням: https://cocodataset.org/#format-data\n",
        "\n",
        "6. Щоб перевірити правильність результатів, у VS Code встановіть розширення JSON та відкрийте файл image_info_test-dev2017.json. Розширення автоматично визначає кількість елементів у кожному полі."
      ]
    },
    {
      "cell_type": "code",
      "metadata": {
        "id": "74C6WKB_U464"
      },
      "source": [],
      "execution_count": null,
      "outputs": []
    }
  ]
}