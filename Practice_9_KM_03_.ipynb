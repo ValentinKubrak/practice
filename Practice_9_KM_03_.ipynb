{
  "nbformat": 4,
  "nbformat_minor": 0,
  "metadata": {
    "colab": {
      "name": "Practice_7_KM-01_.ipynb",
      "provenance": [],
      "collapsed_sections": []
    },
    "kernelspec": {
      "name": "python3",
      "display_name": "Python 3.8.5 32-bit",
      "metadata": {
        "interpreter": {
          "hash": "6fa8c4a0213b3e8e46e64ca221d4ef2f7254b1e53b83d6209b624a99d7aa7db4"
        }
      }
    }
  },
  "cells": [
    {
      "cell_type": "markdown",
      "metadata": {
        "id": "FMqboNwO4rVs"
      },
      "source": [
        "# **Курс \"Програмування на мові Python\"**\n",
        "\n",
        "##### Викладачі:\n",
        "##### Борисенко Павло Борисович\n",
        "##### Щьоголєв Максим Олегович\n"
      ]
    },
    {
      "cell_type": "markdown",
      "metadata": {
        "id": "A2T6MigL5Z06"
      },
      "source": [
        "## **Практичне зайняття №9**\n",
        "\n",
        "### Тема: \"Лямбда-функції. Функції вищих порядків\""
      ]
    },
    {
      "cell_type": "markdown",
      "metadata": {
        "id": "cfCdgK2zXm7e"
      },
      "source": [
        "### **Завдання 1 (1 бал)**\n",
        "\n",
        "Продавець роздрібного товару влаштовує розпродаж. Для всіх товарів знижка однакова - 60%. Щоб вивісити нові цінники, продавець хоче скласти таблицю, в якій для кожного товару буде підрахована його нова вартість та сума знижки.\n",
        "\n",
        "Написати програму, яка буде генерувати таку таблицю. Вартість одиниць товарів до розпродажу подано у списку products_list. \n",
        "\n",
        "1. Для підрахунку невідомих значень повинні використовуватись вбудовані функції вищих порядків.\n",
        "\n",
        "2. Вартість з урахуванням знижки та суми знижок для кожного товару повинні зберігатись у двох окремих списках. Порядок товарів у нових списках повинен бути такий самий, як і в списку products_list.\n",
        "\n",
        "3. Кожне підраховане числове значення має бути округлене до сотих.\n",
        "\n",
        "4. Дані повинні виводитись у вигляді:\n",
        "\n",
        "**Discount table:**\n",
        "\n",
        "**29.25 11.7 17.55**\n",
        "\n",
        "**48.99 19.6 29.39**\n",
        "\n",
        "**...**\n",
        "\n",
        "\n",
        "products_list = [[29.25, 48.99, 99.98, 124.65, 214.30, 543.90, 799.85]]\n"
      ]
    },
    {
      "cell_type": "code",
      "metadata": {
        "id": "ifNX2M7LXm7f"
      },
      "source": [
        "products_list = [29.25, 48.99, 99.98, 124.65, 214.30, 543.90, 799.85]\n",
        "func_1 = list(map(lambda i: round(i*0.6, 2), products_list))\n",
        "func_2 = list(map(lambda i: round(i*0.4, 2), products_list))\n",
        "print('Discount table:')\n",
        "for i in range(len(products_list)):\n",
        "    print(products_list[i], func_2[i], func_1[i])"
      ],
      "execution_count": 1,
      "outputs": [
        {
          "output_type": "stream",
          "name": "stdout",
          "text": [
            "Discount table:\n29.25 11.7 17.55\n48.99 19.6 29.39\n99.98 39.99 59.99\n124.65 49.86 74.79\n214.3 85.72 128.58\n543.9 217.56 326.34\n799.85 319.94 479.91\n"
          ]
        }
      ]
    },
    {
      "source": [
        "### **Завдання 2 (2 бали)**\n",
        "\n",
        "Зазвичай рік має 365 днів. Однак у високосні роки додається ще один день - 29 лютого. Правила визначення високосного року такі:\n",
        "\n",
        "- Будь-який рік, що ділиться на 400 - високосний.\n",
        "\n",
        "- З тих років, що залишились, будь-який рік, що ділиться на 100 - **не** високосний.\n",
        "\n",
        "- З тих років, що залишились, будь-який рік, що ділиться на 4 - високосний.\n",
        "\n",
        "- Усі інші роки, що залишились - **не** високосні.\n",
        "\n",
        "1) Створіть функцію, в якій за допомогою вбудованих функцій вищих порядків будуть визначатися високосні роки серед перелічених років у списку years. Створена функція має повертати список високосних років.\n",
        "\n",
        "2) Створіть функцію вищих порядків, яка прийматиме на вхід попередню функцію та визначатиме кількість днів у місяці. Також функція повинна приймати на вхід ще 2 параметри: ціле число від 1 до 12 (місяць) та рік, як ціле чотирицифрове число. Ці значення корисувач має вводити з клавіатури. Перевірку введених даних слід виконувати поза межами функцій."
      ],
      "cell_type": "markdown",
      "metadata": {}
    },
    {
      "cell_type": "code",
      "execution_count": 3,
      "metadata": {},
      "outputs": [
        {
          "output_type": "stream",
          "name": "stdout",
          "text": [
            "Список високосних років: [1904, 1908, 1912, 1916, 1920, 1924, 1928, 1932, 1936, 1940, 1944, 1948, 1952, 1956, 1960, 1964, 1968, 1972, 1976, 1980, 1984, 1988, 1992, 1996, 2000, 2004, 2008, 2012, 2016, 2020]\nУ цьому місяці 31 день\n"
          ]
        }
      ],
      "source": [
        "import numpy as np\n",
        "\n",
        "years = np.arange(1900, 2020 + 1, 1)\n",
        "\n",
        "\n",
        "def func(function, year, month):\n",
        "    if function(year):\n",
        "        if month == 2:\n",
        "            return str('У цьому місяці 29 днів')\n",
        "    else:\n",
        "        if month == 2:\n",
        "            return str('У цьому місяці 28 днів')\n",
        "    if month == 1 or 3 or 5 or 7 or 8 or 10 or 12:\n",
        "        return str('У цьому місяці 31 день')\n",
        "    elif month == 4 or 6 or 9 or 11:\n",
        "        return str('У цьому місяці 30 днів')\n",
        "    else:\n",
        "        pass\n",
        "\n",
        "\n",
        "\n",
        "def simple_func(some_years):\n",
        "    some_years_list = []\n",
        "    if type(some_years) == int:\n",
        "        some_years_list.append(some_years)\n",
        "    else:\n",
        "        for i in some_years:\n",
        "            some_years_list.append(i)\n",
        "    some_years_list = set(some_years_list)\n",
        "    leap_year1 = set(filter(lambda i: i % 400 == 0, some_years_list))\n",
        "    remaining_years = some_years_list.difference(leap_year1)\n",
        "    leap_year2 = set(filter(lambda i: i % 100 == 0, some_years_list))\n",
        "    remaining_years = remaining_years.difference(leap_year2)\n",
        "    leap_year1 = list(leap_year1)\n",
        "    leap_year_answer = list(filter(lambda i: i % 4 == 0, remaining_years))\n",
        "    for i in leap_year1:\n",
        "        leap_year_answer.append(i)\n",
        "    if len(some_years_list) != 1:\n",
        "        print('Список високосних років:', sorted(leap_year_answer))\n",
        "    if len(some_years_list) == 1:\n",
        "        for i in some_years_list:\n",
        "            if i in leap_year_answer:\n",
        "                return True\n",
        "            else:\n",
        "                return False\n",
        "\n",
        "\n",
        "simple_func(years)\n",
        "print(func(simple_func, 2100, 3))"
      ]
    },
    {
      "cell_type": "code",
      "execution_count": null,
      "metadata": {},
      "outputs": [],
      "source": []
    }
  ]
}