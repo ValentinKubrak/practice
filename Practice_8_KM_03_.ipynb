{
  "nbformat": 4,
  "nbformat_minor": 0,
  "metadata": {
    "colab": {
      "name": "Practice_7_KM-01_.ipynb",
      "provenance": [],
      "collapsed_sections": []
    },
    "kernelspec": {
      "name": "python3",
      "display_name": "Python 3.8.5 32-bit",
      "metadata": {
        "interpreter": {
          "hash": "6fa8c4a0213b3e8e46e64ca221d4ef2f7254b1e53b83d6209b624a99d7aa7db4"
        }
      }
    }
  },
  "cells": [
    {
      "cell_type": "markdown",
      "metadata": {
        "id": "FMqboNwO4rVs"
      },
      "source": [
        "# **Курс \"Програмування на мові Python\"**\n",
        "\n",
        "##### Викладачі:\n",
        "##### Борисенко Павло Борисович\n",
        "##### Щьоголєв Максим Олегович\n"
      ]
    },
    {
      "cell_type": "markdown",
      "metadata": {
        "id": "A2T6MigL5Z06"
      },
      "source": [
        "## **Практичне зайняття №8**\n",
        "\n",
        "### Тема: \"Робота з функціями. Локальні та глобальні змінні\""
      ]
    },
    {
      "cell_type": "markdown",
      "metadata": {
        "id": "cfCdgK2zXm7e"
      },
      "source": [
        "### **Завдання 1 (3 бали)**\n",
        "\n",
        "**Підрахувати визначник матриці, використовуючи перестановки та символ Леві-Чивіти.**\n",
        "\n",
        "Функція random_matrix() призначена для створення квадратної матриці випадкових чисел. Її змінювати непотрібно.\n",
        "\n",
        "Приклад використання методу permutations() для створення списку перестановок також подається у комірці з кодом.\n",
        "\n",
        "1) Створити 3 функції: функцію створення списку перестановок, функцію підрахунку добутків та функцію підрахунку загальної суми.\n",
        "\n",
        "2) Кожна функція має супроводжуватись рядком документації, що буде коротко описувати її призначення.\n",
        "\n",
        "3) Розмірність квадратної матриці має вводитись користувачем з клавіатури. Підрахунки виконувати лише в тому разі, якщо користувач введе ціле додатне число.\n",
        "\n",
        "4) Загальний результат повинен підраховуватись за допомогою композиції функцій.\n",
        "\n",
        "За бажання можна перевірити правильність роботи програми за допомогою функції np.linalg.det(a)."
      ]
    },
    {
      "cell_type": "code",
      "metadata": {
        "id": "ifNX2M7LXm7f"
      },
      "source": [
        "import numpy as np\n",
        "import itertools\n",
        "\n",
        "while True:\n",
        "    try:\n",
        "        dim = int(input('Введіть розмірність матриці: '))\n",
        "        if dim < 0:\n",
        "            print(\"Введіть значення більше нуля\")\n",
        "            continue\n",
        "        else:\n",
        "            break\n",
        "    except ValueError:\n",
        "        print('Ви ввели неправильне значення')\n",
        "        continue\n",
        " \n",
        "#Фунція створення списку перестановок\n",
        "def permutations():\n",
        "    n = int(dim)\n",
        "    factorial = []\n",
        "    for i in range(1,n+1):\n",
        "        factorial.append(str(i))\n",
        "    new_factorial = \"\".join(factorial)\n",
        "    t = list(itertools.permutations(new_factorial, dim))\n",
        "#повинен був бути підрахунок кількості інверсій\n",
        "    '''\n",
        "    for i in t:\n",
        "        for n in range(0,dim-1):\n",
        "            if int(i[n])>int(i[n+1]) == True:\n",
        "                print(\"True\")\n",
        "            else:\n",
        "                print(\"False\")\n",
        "                '''\n",
        "    print(t)\n",
        "\n",
        "def random_matrix():\n",
        "    matrix = np.random.randint(10, size = (dim, dim))\n",
        "    #повинен був бути підрахунок добутків\n",
        "    '''\n",
        "    k = 1\n",
        "    for i in matrix:\n",
        "        for n in i:\n",
        "            k *= n\n",
        "    '''\n",
        "    return matrix\n",
        "\n",
        "    \n",
        "\n",
        "\n",
        "permutations()\n",
        "random_matrix()"
      ],
      "execution_count": 66,
      "outputs": [
        {
          "output_type": "stream",
          "name": "stdout",
          "text": [
            "[('1', '2', '3'), ('1', '3', '2'), ('2', '1', '3'), ('2', '3', '1'), ('3', '1', '2'), ('3', '2', '1')]\n"
          ]
        },
        {
          "output_type": "execute_result",
          "data": {
            "text/plain": [
              "array([[0, 7, 8],\n",
              "       [9, 7, 7],\n",
              "       [6, 6, 1]])"
            ]
          },
          "metadata": {},
          "execution_count": 66
        }
      ]
    },
    {
      "cell_type": "code",
      "execution_count": null,
      "metadata": {},
      "outputs": [],
      "source": []
    },
    {
      "cell_type": "code",
      "execution_count": null,
      "metadata": {},
      "outputs": [],
      "source": []
    }
  ]
}